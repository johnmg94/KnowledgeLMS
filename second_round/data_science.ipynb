{
 "cells": [
  {
   "cell_type": "code",
   "execution_count": 20,
   "metadata": {},
   "outputs": [],
   "source": [
    "import os\n",
    "import pandas as pd\n",
    "import matplotlib.pyplot as plt\n",
    "import numpy as np"
   ]
  },
  {
   "cell_type": "markdown",
   "metadata": {},
   "source": [
    "This code was used to examine the length and distribution of text files lengths"
   ]
  },
  {
   "cell_type": "code",
   "execution_count": 10,
   "metadata": {},
   "outputs": [],
   "source": [
    "input_path = '../second_round/Text Files'\n",
    "count = 0\n",
    "arr = []\n",
    "numerator_average = 0\n",
    "df = pd.DataFrame()\n",
    "for filename in os.listdir(input_path):\n",
    "    input_file_path = os.path.join(input_path, filename)\n",
    "    if not os.path.isfile(input_file_path):\n",
    "        continue\n",
    "    try:\n",
    "        with open(input_file_path, 'r', encoding='utf-8') as file:\n",
    "            length = sum(len(line) for line in file)\n",
    "            try:\n",
    "                arr.append(length)\n",
    "            except Exception as e:\n",
    "                print(str(e))\n",
    "            # print(\"Numerator Average: \", str(numerator_average))\n",
    "            # count += 1\n",
    "        # print(\"Total count: \", str(count))\n",
    "        # print(\"Total Numerator Average: \", str(numerator_average))\n",
    "        # Need to divide numerator average by count to get the average file length\n",
    "        # Average = 5062\n",
    "    except:\n",
    "        print(\"Could not open file\")\n",
    "df[\"Length\"] = arr"
   ]
  },
  {
   "cell_type": "code",
   "execution_count": 24,
   "metadata": {},
   "outputs": [
    {
     "data": {
      "image/png": "[encoded data removed]",
      "text/plain": [
       "<Figure size 200x200 with 1 Axes>"
      ]
     },
     "metadata": {},
     "output_type": "display_data"
    }
   ],
   "source": [
    "# print(df)\n",
    "sorted_values = df['Length'].sort_values().reset_index(drop=True)\n",
    "x = np.arange(46)\n",
    "# Plotting a histogram of the 'Length' column to show its distribution\n",
    "plt.style.use('_mpl-gallery')\n",
    "fig, ax = plt.subplots()\n",
    "ax.bar(x, sorted_values, width=1, edgecolor=\"white\", linewidth=0.7)\n",
    "plt.show()\n"
   ]
  },
  {
   "cell_type": "code",
   "execution_count": 32,
   "metadata": {},
   "outputs": [
    {
     "data": {
      "image/png": "[encoded data removed]",
      "text/plain": [
       "<Figure size 200x200 with 1 Axes>"
      ]
     },
     "metadata": {},
     "output_type": "display_data"
    }
   ],
   "source": [
    "plt.style.use('_mpl-gallery')\n",
    "fig, ax = plt.subplots()\n",
    "ax.hist(sorted_values, bins=6, linewidth=0.5, edgecolor=\"white\")\n",
    "plt.show()"
   ]
  },
  {
   "cell_type": "code",
   "execution_count": null,
   "metadata": {},
   "outputs": [],
   "source": []
  }
 ],
 "metadata": {
  "kernelspec": {
   "display_name": "venv",
   "language": "python",
   "name": "python3"
  },
  "language_info": {
   "codemirror_mode": {
    "name": "ipython",
    "version": 3
   },
   "file_extension": ".py",
   "mimetype": "text/x-python",
   "name": "python",
   "nbconvert_exporter": "python",
   "pygments_lexer": "ipython3",
   "version": "3.12.7"
  }
 },
 "nbformat": 4,
 "nbformat_minor": 2
}
